{
 "cells": [
  {
   "cell_type": "code",
   "execution_count": null,
   "metadata": {},
   "outputs": [
    {
     "ename": "",
     "evalue": "",
     "output_type": "error",
     "traceback": [
      "\u001b[1;31mFailed to start the Kernel '.venv (Python 3.11.9)'. \n",
      "\u001b[1;31mView Jupyter <a href='command:jupyter.viewOutput'>log</a> for further details. listen EFAULT: bad address in system call argument 192.168.219.100:9000"
     ]
    }
   ],
   "source": [
    "import PyPDF2\n",
    "import tiktoken\n",
    "\n",
    "\n",
    "def count_tokens_in_pdf(pdf_path):\n",
    "    # PDF 파일 열기\n",
    "    with open(pdf_path, \"rb\") as file:\n",
    "        # PDF 리더 객체 생성\n",
    "        pdf_reader = PyPDF2.PdfReader(file)\n",
    "\n",
    "        # 전체 텍스트 추출\n",
    "        full_text = \"\"\n",
    "        for page in pdf_reader.pages:\n",
    "            full_text += page.extract_text()\n",
    "\n",
    "    # tiktoken 인코더 초기화 (GPT-3.5-turbo 모델 사용)\n",
    "    encoding = tiktoken.encoding_for_model(\"gpt-3.5-turbo\")\n",
    "\n",
    "    # 토큰 수 계산\n",
    "    tokens = encoding.encode(full_text)\n",
    "    return len(tokens)\n",
    "\n",
    "\n",
    "# 사용 예시\n",
    "pdf_path = \"자본시장과 금융투자업에 관한 법률(법률)(제20531호)(20250331).pdf\"  # PDF 파일 경로를 여기에 입력하세요\n",
    "token_count = count_tokens_in_pdf(pdf_path)\n",
    "print(f\"PDF 파일의 토큰 수: {token_count}\")"
   ]
  },
  {
   "cell_type": "code",
   "execution_count": null,
   "metadata": {},
   "outputs": [],
   "source": []
  }
 ],
 "metadata": {
  "kernelspec": {
   "display_name": ".venv",
   "language": "python",
   "name": "python3"
  },
  "language_info": {
   "name": "python",
   "version": "3.11.9"
  }
 },
 "nbformat": 4,
 "nbformat_minor": 2
}
